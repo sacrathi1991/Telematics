{
 "cells": [
  {
   "cell_type": "code",
   "execution_count": 3,
   "metadata": {},
   "outputs": [],
   "source": [
    "import os\n",
    "import glob\n",
    "import pandas as pd\n",
    "import numpy as np\n",
    "import matplotlib.pyplot as plt\n",
    "import seaborn as sns\n",
    "from sklearn.model_selection import train_test_split\n",
    "from sklearn.linear_model import LogisticRegression\n",
    "from sklearn.metrics import confusion_matrix\n",
    "from sklearn.metrics import roc_curve\n",
    "from sklearn.metrics import roc_auc_score\n",
    "from sklearn.metrics import accuracy_score\n",
    "from sklearn.metrics import classification_report\n",
    "import warnings\n",
    "warnings.filterwarnings('ignore')"
   ]
  },
  {
   "cell_type": "code",
   "execution_count": 1,
   "metadata": {},
   "outputs": [
    {
     "data": {
      "text/plain": [
       "'C:\\\\Users\\\\sachin.rathi\\\\Machine learning\\\\Data_Practice\\\\Advance Analytics course\\\\Telematics\\\\telematics-master\\\\telematics-master'"
      ]
     },
     "execution_count": 1,
     "metadata": {},
     "output_type": "execute_result"
    }
   ],
   "source": [
    "pwd"
   ]
  },
  {
   "cell_type": "code",
   "execution_count": 203,
   "metadata": {},
   "outputs": [
    {
     "data": {
      "text/html": [
       "<div>\n",
       "<style scoped>\n",
       "    .dataframe tbody tr th:only-of-type {\n",
       "        vertical-align: middle;\n",
       "    }\n",
       "\n",
       "    .dataframe tbody tr th {\n",
       "        vertical-align: top;\n",
       "    }\n",
       "\n",
       "    .dataframe thead th {\n",
       "        text-align: right;\n",
       "    }\n",
       "</style>\n",
       "<table border=\"1\" class=\"dataframe\">\n",
       "  <thead>\n",
       "    <tr style=\"text-align: right;\">\n",
       "      <th></th>\n",
       "      <th>max_speed</th>\n",
       "      <th>max_rotation</th>\n",
       "      <th>max_acc</th>\n",
       "      <th>avg_acc</th>\n",
       "      <th>avg_rotation</th>\n",
       "      <th>avg_speed</th>\n",
       "      <th>min_acc</th>\n",
       "      <th>min_speed</th>\n",
       "      <th>min_rotation</th>\n",
       "      <th>acc_roll_angle</th>\n",
       "      <th>acc_pitch_angle</th>\n",
       "      <th>score</th>\n",
       "      <th>target</th>\n",
       "    </tr>\n",
       "  </thead>\n",
       "  <tbody>\n",
       "    <tr>\n",
       "      <th>0</th>\n",
       "      <td>1.112</td>\n",
       "      <td>3.666944</td>\n",
       "      <td>0.774753</td>\n",
       "      <td>0.341284</td>\n",
       "      <td>0.538582</td>\n",
       "      <td>0.8340</td>\n",
       "      <td>0.137298</td>\n",
       "      <td>0.556</td>\n",
       "      <td>0.057296</td>\n",
       "      <td>-3.791742</td>\n",
       "      <td>-2.157257</td>\n",
       "      <td>8.9</td>\n",
       "      <td>3</td>\n",
       "    </tr>\n",
       "    <tr>\n",
       "      <th>1</th>\n",
       "      <td>1.112</td>\n",
       "      <td>6.130672</td>\n",
       "      <td>0.774753</td>\n",
       "      <td>0.331477</td>\n",
       "      <td>1.145920</td>\n",
       "      <td>0.8618</td>\n",
       "      <td>0.098070</td>\n",
       "      <td>0.556</td>\n",
       "      <td>0.057296</td>\n",
       "      <td>5.184349</td>\n",
       "      <td>0.556679</td>\n",
       "      <td>8.9</td>\n",
       "      <td>3</td>\n",
       "    </tr>\n",
       "    <tr>\n",
       "      <th>2</th>\n",
       "      <td>1.112</td>\n",
       "      <td>6.130672</td>\n",
       "      <td>0.774753</td>\n",
       "      <td>0.352071</td>\n",
       "      <td>1.736069</td>\n",
       "      <td>0.8896</td>\n",
       "      <td>0.098070</td>\n",
       "      <td>0.556</td>\n",
       "      <td>0.057296</td>\n",
       "      <td>9.335799</td>\n",
       "      <td>-2.366690</td>\n",
       "      <td>8.9</td>\n",
       "      <td>3</td>\n",
       "    </tr>\n",
       "    <tr>\n",
       "      <th>3</th>\n",
       "      <td>1.390</td>\n",
       "      <td>10.542464</td>\n",
       "      <td>0.774753</td>\n",
       "      <td>0.355013</td>\n",
       "      <td>2.784586</td>\n",
       "      <td>0.9730</td>\n",
       "      <td>0.098070</td>\n",
       "      <td>0.556</td>\n",
       "      <td>0.057296</td>\n",
       "      <td>6.290228</td>\n",
       "      <td>-2.373949</td>\n",
       "      <td>8.9</td>\n",
       "      <td>3</td>\n",
       "    </tr>\n",
       "    <tr>\n",
       "      <th>4</th>\n",
       "      <td>1.390</td>\n",
       "      <td>10.542464</td>\n",
       "      <td>0.774753</td>\n",
       "      <td>0.371685</td>\n",
       "      <td>2.853341</td>\n",
       "      <td>1.0286</td>\n",
       "      <td>0.098070</td>\n",
       "      <td>0.556</td>\n",
       "      <td>0.057296</td>\n",
       "      <td>14.685577</td>\n",
       "      <td>-3.300141</td>\n",
       "      <td>8.9</td>\n",
       "      <td>3</td>\n",
       "    </tr>\n",
       "  </tbody>\n",
       "</table>\n",
       "</div>"
      ],
      "text/plain": [
       "   max_speed  max_rotation   max_acc   avg_acc  avg_rotation  avg_speed  \\\n",
       "0      1.112      3.666944  0.774753  0.341284      0.538582     0.8340   \n",
       "1      1.112      6.130672  0.774753  0.331477      1.145920     0.8618   \n",
       "2      1.112      6.130672  0.774753  0.352071      1.736069     0.8896   \n",
       "3      1.390     10.542464  0.774753  0.355013      2.784586     0.9730   \n",
       "4      1.390     10.542464  0.774753  0.371685      2.853341     1.0286   \n",
       "\n",
       "    min_acc  min_speed  min_rotation  acc_roll_angle  acc_pitch_angle  score  \\\n",
       "0  0.137298      0.556      0.057296       -3.791742        -2.157257    8.9   \n",
       "1  0.098070      0.556      0.057296        5.184349         0.556679    8.9   \n",
       "2  0.098070      0.556      0.057296        9.335799        -2.366690    8.9   \n",
       "3  0.098070      0.556      0.057296        6.290228        -2.373949    8.9   \n",
       "4  0.098070      0.556      0.057296       14.685577        -3.300141    8.9   \n",
       "\n",
       "  target  \n",
       "0      3  \n",
       "1      3  \n",
       "2      3  \n",
       "3      3  \n",
       "4      3  "
      ]
     },
     "execution_count": 203,
     "metadata": {},
     "output_type": "execute_result"
    }
   ],
   "source": [
    "df2 = pd.read_csv('feature_outputs/driver_features.csv')\n",
    "df2 = df2.drop(['index'], axis=1)\n",
    "\n",
    "\n",
    "#Map Score value for multinominal logistic regression\n",
    "df2['target'] = df2['score'].apply(lambda x : 1 if (x >= 0.0) and (x <= 6.0) else (2 if (x > 6.0 and x <= 8.0) else 3))\n",
    "df2['target'] = df2['target'].astype('object')\n",
    "\n",
    "df2.head()"
   ]
  },
  {
   "cell_type": "code",
   "execution_count": 204,
   "metadata": {},
   "outputs": [
    {
     "data": {
      "text/plain": [
       "2    44491\n",
       "3    25826\n",
       "1    21283\n",
       "Name: target, dtype: int64"
      ]
     },
     "execution_count": 204,
     "metadata": {},
     "output_type": "execute_result"
    }
   ],
   "source": [
    "X =df2.iloc[:,0:11]\n",
    "Y= df2[['target']]\n",
    "\n",
    "\n",
    "df2['target'].value_counts()"
   ]
  },
  {
   "cell_type": "code",
   "execution_count": 140,
   "metadata": {},
   "outputs": [
    {
     "data": {
      "text/html": [
       "<div>\n",
       "<style scoped>\n",
       "    .dataframe tbody tr th:only-of-type {\n",
       "        vertical-align: middle;\n",
       "    }\n",
       "\n",
       "    .dataframe tbody tr th {\n",
       "        vertical-align: top;\n",
       "    }\n",
       "\n",
       "    .dataframe thead th {\n",
       "        text-align: right;\n",
       "    }\n",
       "</style>\n",
       "<table border=\"1\" class=\"dataframe\">\n",
       "  <thead>\n",
       "    <tr style=\"text-align: right;\">\n",
       "      <th></th>\n",
       "      <th>max_speed</th>\n",
       "      <th>max_rotation</th>\n",
       "      <th>max_acc</th>\n",
       "      <th>avg_acc</th>\n",
       "      <th>avg_rotation</th>\n",
       "      <th>avg_speed</th>\n",
       "      <th>min_acc</th>\n",
       "      <th>min_speed</th>\n",
       "      <th>min_rotation</th>\n",
       "      <th>acc_roll_angle</th>\n",
       "      <th>acc_pitch_angle</th>\n",
       "    </tr>\n",
       "  </thead>\n",
       "  <tbody>\n",
       "    <tr>\n",
       "      <th>0</th>\n",
       "      <td>1.112</td>\n",
       "      <td>3.666944</td>\n",
       "      <td>0.774753</td>\n",
       "      <td>0.341284</td>\n",
       "      <td>0.538582</td>\n",
       "      <td>0.8340</td>\n",
       "      <td>0.137298</td>\n",
       "      <td>0.556</td>\n",
       "      <td>0.057296</td>\n",
       "      <td>-3.791742</td>\n",
       "      <td>-2.157257</td>\n",
       "    </tr>\n",
       "    <tr>\n",
       "      <th>1</th>\n",
       "      <td>1.112</td>\n",
       "      <td>6.130672</td>\n",
       "      <td>0.774753</td>\n",
       "      <td>0.331477</td>\n",
       "      <td>1.145920</td>\n",
       "      <td>0.8618</td>\n",
       "      <td>0.098070</td>\n",
       "      <td>0.556</td>\n",
       "      <td>0.057296</td>\n",
       "      <td>5.184349</td>\n",
       "      <td>0.556679</td>\n",
       "    </tr>\n",
       "    <tr>\n",
       "      <th>2</th>\n",
       "      <td>1.112</td>\n",
       "      <td>6.130672</td>\n",
       "      <td>0.774753</td>\n",
       "      <td>0.352071</td>\n",
       "      <td>1.736069</td>\n",
       "      <td>0.8896</td>\n",
       "      <td>0.098070</td>\n",
       "      <td>0.556</td>\n",
       "      <td>0.057296</td>\n",
       "      <td>9.335799</td>\n",
       "      <td>-2.366690</td>\n",
       "    </tr>\n",
       "    <tr>\n",
       "      <th>3</th>\n",
       "      <td>1.390</td>\n",
       "      <td>10.542464</td>\n",
       "      <td>0.774753</td>\n",
       "      <td>0.355013</td>\n",
       "      <td>2.784586</td>\n",
       "      <td>0.9730</td>\n",
       "      <td>0.098070</td>\n",
       "      <td>0.556</td>\n",
       "      <td>0.057296</td>\n",
       "      <td>6.290228</td>\n",
       "      <td>-2.373949</td>\n",
       "    </tr>\n",
       "    <tr>\n",
       "      <th>4</th>\n",
       "      <td>1.390</td>\n",
       "      <td>10.542464</td>\n",
       "      <td>0.774753</td>\n",
       "      <td>0.371685</td>\n",
       "      <td>2.853341</td>\n",
       "      <td>1.0286</td>\n",
       "      <td>0.098070</td>\n",
       "      <td>0.556</td>\n",
       "      <td>0.057296</td>\n",
       "      <td>14.685577</td>\n",
       "      <td>-3.300141</td>\n",
       "    </tr>\n",
       "  </tbody>\n",
       "</table>\n",
       "</div>"
      ],
      "text/plain": [
       "   max_speed  max_rotation   max_acc   avg_acc  avg_rotation  avg_speed  \\\n",
       "0      1.112      3.666944  0.774753  0.341284      0.538582     0.8340   \n",
       "1      1.112      6.130672  0.774753  0.331477      1.145920     0.8618   \n",
       "2      1.112      6.130672  0.774753  0.352071      1.736069     0.8896   \n",
       "3      1.390     10.542464  0.774753  0.355013      2.784586     0.9730   \n",
       "4      1.390     10.542464  0.774753  0.371685      2.853341     1.0286   \n",
       "\n",
       "    min_acc  min_speed  min_rotation  acc_roll_angle  acc_pitch_angle  \n",
       "0  0.137298      0.556      0.057296       -3.791742        -2.157257  \n",
       "1  0.098070      0.556      0.057296        5.184349         0.556679  \n",
       "2  0.098070      0.556      0.057296        9.335799        -2.366690  \n",
       "3  0.098070      0.556      0.057296        6.290228        -2.373949  \n",
       "4  0.098070      0.556      0.057296       14.685577        -3.300141  "
      ]
     },
     "execution_count": 140,
     "metadata": {},
     "output_type": "execute_result"
    }
   ],
   "source": [
    "X.head()"
   ]
  },
  {
   "cell_type": "code",
   "execution_count": 86,
   "metadata": {},
   "outputs": [],
   "source": [
    "# # #Modeling\n",
    "# X = df2.iloc[:, :11].values\n",
    "# y = df2.iloc[:, 11].values\n",
    "\n",
    "\n",
    "\n",
    "# for count in range(0,len(y)):\n",
    "#     if (y[count] >= 0.0) and (y[count] <= 6.0):\n",
    "#         y[count]=1\n",
    "#     elif (y[count]) > 6.0 and (y[count] <= 8.0):\n",
    "#         y[count]=2\n",
    "#     else :\n",
    "#         y[count]=3\n",
    "\n",
    "# df2['score'].value_counts()"
   ]
  },
  {
   "cell_type": "code",
   "execution_count": null,
   "metadata": {},
   "outputs": [],
   "source": []
  },
  {
   "cell_type": "markdown",
   "metadata": {},
   "source": [
    "#### Logistic Regression "
   ]
  },
  {
   "cell_type": "code",
   "execution_count": 205,
   "metadata": {},
   "outputs": [],
   "source": [
    "X_train, X_test, y_train, y_test = train_test_split(X, y, test_size = 0.2, stratify=y,random_state = 0)"
   ]
  },
  {
   "cell_type": "code",
   "execution_count": 206,
   "metadata": {},
   "outputs": [
    {
     "name": "stdout",
     "output_type": "stream",
     "text": [
      "[[1289 2956   12]\n",
      " [ 676 6218 2004]\n",
      " [ 177 1838 3150]]\n",
      "\n",
      "\n",
      "Accuracy of logistic regression classifier on test set: 0.58\n",
      "\n",
      "\n",
      "              precision    recall  f1-score   support\n",
      "\n",
      "           0       0.60      0.30      0.40      4257\n",
      "           1       0.56      0.70      0.62      8898\n",
      "           2       0.61      0.61      0.61      5165\n",
      "\n",
      "    accuracy                           0.58     18320\n",
      "   macro avg       0.59      0.54      0.55     18320\n",
      "weighted avg       0.59      0.58      0.57     18320\n",
      "\n"
     ]
    }
   ],
   "source": [
    "#Modeling\n",
    "\n",
    "lr = LogisticRegression()\n",
    "lr.fit(X_train, y_train)\n",
    "\n",
    "# print(lr.coef_)\n",
    "# print(lr.intercept_)\n",
    "\n",
    "y_pred = lr.predict(X_test)\n",
    "\n",
    "\n",
    "\n",
    "print(confusion_matrix(y_test, y_pred))\n",
    "print('\\n')\n",
    "#Accuracy of the model\n",
    "print('Accuracy of logistic regression classifier on test set: {:.2f}'.format(lr.score(X_test, y_test)))\n",
    "print('\\n')\n",
    "print(classification_report(y_test, y_pred))"
   ]
  },
  {
   "cell_type": "markdown",
   "metadata": {},
   "source": [
    "# Extreme Gradient Boost"
   ]
  },
  {
   "cell_type": "code",
   "execution_count": 45,
   "metadata": {},
   "outputs": [
    {
     "data": {
      "text/plain": [
       "<matplotlib.axes._subplots.AxesSubplot at 0x18b26d90c88>"
      ]
     },
     "execution_count": 45,
     "metadata": {},
     "output_type": "execute_result"
    },
    {
     "data": {
      "image/png": "[encoded data removed]",
      "text/plain": [
       "<Figure size 792x576 with 2 Axes>"
      ]
     },
     "metadata": {},
     "output_type": "display_data"
    }
   ],
   "source": [
    "import seaborn as sns\n",
    "sns.set(rc={'figure.figsize':(11,8)})\n",
    "Var_Corr = df2.corr()\n",
    "# plot the heatmap and annotation on it\n",
    "sns.heatmap(Var_Corr, xticklabels=Var_Corr.columns, yticklabels=Var_Corr.columns, annot=True)\n",
    "\n"
   ]
  },
  {
   "cell_type": "markdown",
   "metadata": {},
   "source": [
    "###### Find corelation strength between variables"
   ]
  },
  {
   "cell_type": "code",
   "execution_count": 46,
   "metadata": {},
   "outputs": [],
   "source": [
    "def get_redundant_pairs(df):\n",
    "    '''Get diagonal and lower triangular pairs of correlation matrix'''\n",
    "    pairs_to_drop = set()\n",
    "    cols = df2.columns\n",
    "    for i in range(0, df.shape[1]):\n",
    "        for j in range(0, i+1):\n",
    "            pairs_to_drop.add((cols[i], cols[j]))\n",
    "    return pairs_to_drop\n",
    "\n",
    "def get_top_abs_correlations(df, n=5):\n",
    "    au_corr = df2.corr().abs().unstack()\n",
    "    labels_to_drop = get_redundant_pairs(df2)\n",
    "    au_corr = au_corr.drop(labels=labels_to_drop).sort_values(ascending=False)\n",
    "    return au_corr[0:n]"
   ]
  },
  {
   "cell_type": "code",
   "execution_count": 47,
   "metadata": {},
   "outputs": [
    {
     "name": "stdout",
     "output_type": "stream",
     "text": [
      "avg_speed     min_speed          0.989712\n",
      "max_speed     avg_speed          0.989512\n",
      "              min_speed          0.962921\n",
      "max_rotation  avg_rotation       0.900003\n",
      "max_acc       avg_acc            0.826332\n",
      "avg_speed     score              0.649998\n",
      "min_speed     score              0.645653\n",
      "max_speed     score              0.641453\n",
      "avg_acc       min_acc            0.590391\n",
      "avg_rotation  min_rotation       0.523658\n",
      "max_acc       min_speed          0.298715\n",
      "              min_acc            0.292860\n",
      "avg_acc       acc_roll_angle     0.278580\n",
      "max_rotation  min_rotation       0.274247\n",
      "              max_acc            0.265717\n",
      "              avg_acc            0.263218\n",
      "max_acc       acc_roll_angle     0.253592\n",
      "              avg_speed          0.250585\n",
      "min_acc       acc_pitch_angle    0.243411\n",
      "avg_acc       acc_pitch_angle    0.232228\n",
      "dtype: float64\n"
     ]
    }
   ],
   "source": [
    "print(get_top_abs_correlations(df2, 20))"
   ]
  },
  {
   "cell_type": "code",
   "execution_count": 188,
   "metadata": {},
   "outputs": [],
   "source": [
    "X =df2.iloc[:,0:11]\n",
    "y= df2[['target']]\n",
    "\n",
    "\n",
    "\n",
    "from sklearn import preprocessing\n",
    "\n",
    "lab_enc = preprocessing.LabelEncoder()\n",
    "y= lab_enc.fit_transform(y)\n",
    "\n",
    "from sklearn.model_selection import train_test_split\n",
    "X_train, X_test, y_train, y_test = train_test_split(X,y,\n",
    "                                                    stratify=y, \n",
    "                                                    test_size=0.25, random_state=10)"
   ]
  },
  {
   "cell_type": "code",
   "execution_count": 189,
   "metadata": {},
   "outputs": [
    {
     "data": {
      "text/plain": [
       "((91600, 13), (68700, 11), (68700,), (22900, 11), (22900,))"
      ]
     },
     "execution_count": 189,
     "metadata": {},
     "output_type": "execute_result"
    }
   ],
   "source": [
    "df2.shape , X_train.shape , y_train.shape,X_test.shape,y_test.shape"
   ]
  },
  {
   "cell_type": "code",
   "execution_count": 190,
   "metadata": {},
   "outputs": [
    {
     "name": "stdout",
     "output_type": "stream",
     "text": [
      "[[ 5321     0     0]\n",
      " [    0 11123     0]\n",
      " [    0     0  6456]]\n",
      "              precision    recall  f1-score   support\n",
      "\n",
      "           0       1.00      1.00      1.00      5321\n",
      "           1       1.00      1.00      1.00     11123\n",
      "           2       1.00      1.00      1.00      6456\n",
      "\n",
      "    accuracy                           1.00     22900\n",
      "   macro avg       1.00      1.00      1.00     22900\n",
      "weighted avg       1.00      1.00      1.00     22900\n",
      "\n"
     ]
    }
   ],
   "source": [
    "import xgboost as xgb\n",
    "model= xgb.XGBClassifier(random_state=1,learning_rate=0.01,objective= 'multi:softprob')\n",
    "\n",
    "model = model.fit(X_train, y_train)\n",
    "\n",
    "y_pred = model.predict(X_test)\n",
    "\n",
    "accuracy_score(y_test,y_pred)\n",
    "\n",
    "print(confusion_matrix(y_test, y_pred))\n",
    "print(classification_report(y_test, y_pred))"
   ]
  },
  {
   "cell_type": "code",
   "execution_count": 194,
   "metadata": {},
   "outputs": [
    {
     "data": {
      "text/plain": [
       "<matplotlib.axes._subplots.AxesSubplot at 0x13c16dff940>"
      ]
     },
     "execution_count": 194,
     "metadata": {},
     "output_type": "execute_result"
    },
    {
     "data": {
      "image/png": "[encoded data removed]",
      "text/plain": [
       "<Figure size 432x288 with 1 Axes>"
      ]
     },
     "metadata": {
      "needs_background": "light"
     },
     "output_type": "display_data"
    }
   ],
   "source": [
    "xgb.plot_importance(model)"
   ]
  },
  {
   "cell_type": "markdown",
   "metadata": {},
   "source": [
    "#### With Selected columns"
   ]
  },
  {
   "cell_type": "code",
   "execution_count": 196,
   "metadata": {},
   "outputs": [
    {
     "name": "stdout",
     "output_type": "stream",
     "text": [
      "[[ 5321     0     0]\n",
      " [    0 11123     0]\n",
      " [    0     0  6456]]\n",
      "              precision    recall  f1-score   support\n",
      "\n",
      "           0       1.00      1.00      1.00      5321\n",
      "           1       1.00      1.00      1.00     11123\n",
      "           2       1.00      1.00      1.00      6456\n",
      "\n",
      "    accuracy                           1.00     22900\n",
      "   macro avg       1.00      1.00      1.00     22900\n",
      "weighted avg       1.00      1.00      1.00     22900\n",
      "\n"
     ]
    }
   ],
   "source": [
    "X_test = X_test[['max_acc','avg_acc','max_speed','avg_speed','avg_rotation','acc_roll_angle']]\n",
    "X_train = X_train[['max_acc','avg_acc','max_speed','avg_speed','avg_rotation','acc_roll_angle']]\n",
    "\n",
    "import xgboost as xgb\n",
    "model= xgb.XGBClassifier(random_state=1,learning_rate=0.01,objective= 'multi:softprob')\n",
    "\n",
    "model.fit(X_train, y_train)\n",
    "\n",
    "y_pred = model.predict(X_test)\n",
    "\n",
    "accuracy_score(y_test,y_pred)\n",
    "\n",
    "print(confusion_matrix(y_test, y_pred))\n",
    "print(classification_report(y_test, y_pred))"
   ]
  },
  {
   "cell_type": "markdown",
   "metadata": {},
   "source": [
    "# LightGBM :LightGBM with all columns"
   ]
  },
  {
   "cell_type": "code",
   "execution_count": 165,
   "metadata": {},
   "outputs": [],
   "source": [
    "import lightgbm as lgb"
   ]
  },
  {
   "cell_type": "code",
   "execution_count": 167,
   "metadata": {},
   "outputs": [],
   "source": [
    "X =df2.iloc[:,0:11]\n",
    "y= df2[['target']]\n",
    "\n",
    "\n",
    "\n",
    "from sklearn import preprocessing\n",
    "\n",
    "lab_enc = preprocessing.LabelEncoder()\n",
    "y= lab_enc.fit_transform(y)\n",
    "\n",
    "from sklearn.model_selection import train_test_split\n",
    "X_train, X_test, y_train, y_test = train_test_split(X,y,\n",
    "                                                    stratify=y, \n",
    "                                                    test_size=0.25, random_state=10)"
   ]
  },
  {
   "cell_type": "code",
   "execution_count": 172,
   "metadata": {},
   "outputs": [],
   "source": [
    "\n",
    "\n",
    "l = lgb.LGBMClassifier(objective='multiclass')"
   ]
  },
  {
   "cell_type": "code",
   "execution_count": 173,
   "metadata": {},
   "outputs": [
    {
     "data": {
      "text/plain": [
       "LGBMClassifier(boosting_type='gbdt', class_weight=None, colsample_bytree=1.0,\n",
       "               importance_type='split', learning_rate=0.1, max_depth=-1,\n",
       "               min_child_samples=20, min_child_weight=0.001, min_split_gain=0.0,\n",
       "               n_estimators=100, n_jobs=-1, num_leaves=31,\n",
       "               objective='multiclass', random_state=None, reg_alpha=0.0,\n",
       "               reg_lambda=0.0, silent=True, subsample=1.0,\n",
       "               subsample_for_bin=200000, subsample_freq=0)"
      ]
     },
     "execution_count": 173,
     "metadata": {},
     "output_type": "execute_result"
    }
   ],
   "source": [
    "l.fit(X_train, y_train)"
   ]
  },
  {
   "cell_type": "code",
   "execution_count": 174,
   "metadata": {},
   "outputs": [
    {
     "name": "stdout",
     "output_type": "stream",
     "text": [
      "[[ 5319     2     0]\n",
      " [    1 11121     1]\n",
      " [    0     1  6455]]\n",
      "              precision    recall  f1-score   support\n",
      "\n",
      "           0       1.00      1.00      1.00      5321\n",
      "           1       1.00      1.00      1.00     11123\n",
      "           2       1.00      1.00      1.00      6456\n",
      "\n",
      "    accuracy                           1.00     22900\n",
      "   macro avg       1.00      1.00      1.00     22900\n",
      "weighted avg       1.00      1.00      1.00     22900\n",
      "\n"
     ]
    }
   ],
   "source": [
    "y_pred_lightgbm = l.predict(X_test)\n",
    "\n",
    "print(confusion_matrix(y_test, y_pred_lightgbm))\n",
    "print(classification_report(y_test, y_pred_lightgbm))"
   ]
  },
  {
   "cell_type": "code",
   "execution_count": 175,
   "metadata": {},
   "outputs": [
    {
     "name": "stdout",
     "output_type": "stream",
     "text": [
      "0.9997816593886463\n",
      "1.0\n"
     ]
    }
   ],
   "source": [
    "print(l.score(X_test,y_test))\n",
    "print(l.score(X_train,y_train))"
   ]
  },
  {
   "cell_type": "code",
   "execution_count": 176,
   "metadata": {},
   "outputs": [
    {
     "data": {
      "text/plain": [
       "0.9997816593886463"
      ]
     },
     "execution_count": 176,
     "metadata": {},
     "output_type": "execute_result"
    }
   ],
   "source": [
    "accuracy_score(y_test,y_pred_lightgbm)"
   ]
  },
  {
   "cell_type": "markdown",
   "metadata": {},
   "source": [
    "#### LBM with Selected columns"
   ]
  },
  {
   "cell_type": "code",
   "execution_count": 135,
   "metadata": {},
   "outputs": [],
   "source": [
    "# Remove Corelated variables ( Pearson Corelation)"
   ]
  },
  {
   "cell_type": "code",
   "execution_count": 180,
   "metadata": {},
   "outputs": [],
   "source": [
    "X =df2.iloc[:,0:11]\n",
    "y= df2[['target']]\n",
    "\n",
    "\n",
    "\n",
    "from sklearn import preprocessing\n",
    "\n",
    "lab_enc = preprocessing.LabelEncoder()\n",
    "y= lab_enc.fit_transform(y)\n",
    "\n",
    "from sklearn.model_selection import train_test_split\n",
    "X_train, X_test, y_train, y_test = train_test_split(X,y,\n",
    "                                                    stratify=y, \n",
    "                                                    test_size=0.25, random_state=10)\n",
    "\n",
    "X_test_selected = X_test[['max_acc','avg_acc','avg_speed','avg_rotation','acc_roll_angle','acc_pitch_angle']]\n",
    "X_train_selected= X_train[['max_acc','avg_acc','avg_speed','avg_rotation','acc_roll_angle','acc_pitch_angle']]\n",
    "\n",
    "lgb_selected = lgb.LGBMClassifier(objective='multiclass')\n",
    "\n",
    "lgb_selected.fit(X_train_selected, y_train)\n",
    "\n",
    "y_pred_lightgbm_selected = lgb_selected.predict(X_test_selected)\n"
   ]
  },
  {
   "cell_type": "code",
   "execution_count": 182,
   "metadata": {},
   "outputs": [
    {
     "name": "stdout",
     "output_type": "stream",
     "text": [
      "[[ 5226    95     0]\n",
      " [   44 10730   349]\n",
      " [    0   141  6315]]\n",
      "              precision    recall  f1-score   support\n",
      "\n",
      "           0       0.99      0.98      0.99      5321\n",
      "           1       0.98      0.96      0.97     11123\n",
      "           2       0.95      0.98      0.96      6456\n",
      "\n",
      "    accuracy                           0.97     22900\n",
      "   macro avg       0.97      0.97      0.97     22900\n",
      "weighted avg       0.97      0.97      0.97     22900\n",
      "\n"
     ]
    }
   ],
   "source": [
    "\n",
    "print(confusion_matrix(y_test, y_pred_lightgbm_selected))\n",
    "print(classification_report(y_test, y_pred_lightgbm_selected))"
   ]
  },
  {
   "cell_type": "code",
   "execution_count": 186,
   "metadata": {},
   "outputs": [
    {
     "name": "stdout",
     "output_type": "stream",
     "text": [
      "Accuracy for lightGBM with selected variables is : 0.972532751091703\n"
     ]
    }
   ],
   "source": [
    "from sklearn.metrics import recall_score\n",
    "print(f'Accuracy for lightGBM with selected variables is : {accuracy_score(y_test, y_pred_lightgbm_selected)}')\n"
   ]
  },
  {
   "cell_type": "code",
   "execution_count": null,
   "metadata": {},
   "outputs": [],
   "source": []
  }
 ],
 "metadata": {
  "kernelspec": {
   "display_name": "Python 3",
   "language": "python",
   "name": "python3"
  },
  "language_info": {
   "codemirror_mode": {
    "name": "ipython",
    "version": 3
   },
   "file_extension": ".py",
   "mimetype": "text/x-python",
   "name": "python",
   "nbconvert_exporter": "python",
   "pygments_lexer": "ipython3",
   "version": "3.7.3"
  }
 },
 "nbformat": 4,
 "nbformat_minor": 4
}
