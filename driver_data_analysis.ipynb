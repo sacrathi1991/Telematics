{
 "cells": [
  {
   "cell_type": "code",
   "execution_count": 1,
   "metadata": {},
   "outputs": [],
   "source": [
    "#Import libraries\n",
    "import data_preprocessing as pre\n",
    "import global_vals as global_vals\n",
    "import csv\n",
    "import os\n",
    "import glob\n",
    "import pandas as pd\n",
    "import numpy as np\n",
    "import matplotlib.pyplot as plt\n",
    "import seaborn as sns\n",
    "from sklearn.model_selection import train_test_split\n",
    "from sklearn.linear_model import LogisticRegression\n",
    "from sklearn.metrics import confusion_matrix\n",
    "from sklearn.metrics import roc_curve\n",
    "from sklearn.metrics import roc_auc_score\n",
    "from sklearn.metrics import accuracy_score\n",
    "from sklearn.metrics import classification_report\n",
    "import warnings\n",
    "warnings.filterwarnings('ignore')"
   ]
  },
  {
   "cell_type": "code",
   "execution_count": 3,
   "metadata": {},
   "outputs": [],
   "source": [
    "def get_acc_roll_angle(acc_y, acc_z):\n",
    "    \"\"\"\n",
    "    returns roll angle\n",
    "    \"\"\"\n",
    "    return np.degrees(np.arctan(acc_y / acc_z))\n",
    "\n",
    "def get_acc_pitch_angle(acc_x, acc_y, acc_z):\n",
    "    \"\"\"\"\n",
    "    Return Pitch angle\n",
    "    \"\"\"\n",
    "    denominator = np.sqrt(np.power(acc_y, 2) + np.power(acc_z, 2))\n",
    "    pitch_angle = np.degrees(np.arctan(((-1) * acc_x) / denominator))\n",
    "    return pitch_angle"
   ]
  },
  {
   "cell_type": "code",
   "execution_count": 4,
   "metadata": {},
   "outputs": [],
   "source": [
    "#Data Pre Processing\n",
    "path = r'C:\\\\Users\\\\sachin.rathi\\\\Machine learning\\\\Data_Practice\\\\Advance Analytics course\\\\Telematics\\\\cartripsdatamining\\\\TripData\\\\RawData'\n",
    "# Extract all files extension is .csv\n",
    "files = glob.glob(os.path.join(path, \"*.csv\"))\n",
    "#files = files[0:11]\n",
    "data = []\n",
    "for csv in files:\n",
    "    header = ['time_vector(s)','rpm','speed(kmph)','engine_load','acc_x(G)','acc_y(G)','acc_z(G)','gyro_x(rad_per_s)','gyro_y(rad_per_s)','gyro_z(rad_per_s)','mag_x','mag_y','mag_z']   \n",
    "    frame = pd.read_csv(csv,names=header)\n",
    "    frame['date'] = os.path.basename(csv)\n",
    "    data.append(frame)"
   ]
  },
  {
   "cell_type": "code",
   "execution_count": 5,
   "metadata": {},
   "outputs": [],
   "source": [
    "df = pd.concat(data, ignore_index=True)\n",
    "df['date'] =df['date'].apply(lambda x : x.split(\".\")[0].replace(\"_\",\"-\"))\n",
    "df['date'] = pd.to_datetime(df['date'], format='%Y-%m-%d-%H-%M-%S')\n",
    "df = df[df['speed(kmph)'] > 0 ]  #when vehicle is moving\n",
    "df.reset_index(drop=True, inplace=True)\n",
    "\n",
    "ac = []\n",
    "gy = []\n",
    "for i in range(0, len(df)):\n",
    "    a = max(df['acc_x(G)'][i] , df['acc_y(G)'][i] , df['acc_z(G)'][i])\n",
    "    b = max(df['gyro_x(rad_per_s)'][i], df['gyro_y(rad_per_s)'][i], df['gyro_z(rad_per_s)'][i])\n",
    "    ac.append(a)\n",
    "    gy.append(b)\n",
    "\n",
    "df['acc'] = ac\n",
    "df['gyro'] = gy\n",
    "df['accX_ms'] = df['acc_x(G)'] * 9.807\n",
    "df['accY_ms'] = df['acc_y(G)'] * 9.807\n",
    "df['accZ_ms'] = df['acc_z(G)'] * 9.807\n",
    "df['gyroX_dps'] = df['gyro_x(rad_per_s)'] * 57.296\n",
    "df['gyroY_dps'] = df['gyro_y(rad_per_s)'] * 57.296\n",
    "df['gyroZ_dps'] = df['gyro_z(rad_per_s)'] * 57.296\n",
    "df['acc_ms'] = df['acc']  * 9.807\n",
    "df['gyro_dps'] = df['gyro'] * 57.296\n",
    "df['speed_mps'] = df['speed(kmph)'] *0.278\n",
    "df['acc_roll_angle'] = get_acc_roll_angle(df['accY_ms'], df['accZ_ms'])\n",
    "df['acc_pitch_angle'] = get_acc_pitch_angle(df['accX_ms'], df['accY_ms'], df['accZ_ms'])\n",
    "df1 = df[['date','speed_mps', 'acc_ms', 'gyro_dps', 'acc_roll_angle', 'acc_pitch_angle']]\n",
    "\n"
   ]
  },
  {
   "cell_type": "code",
   "execution_count": 6,
   "metadata": {},
   "outputs": [],
   "source": [
    "df1.to_csv(\"C:\\\\Users\\\\sachin.rathi\\\\Machine learning\\\\Data_Practice\\\\Advance Analytics course\\\\Telematics\\\\telematics-master\\\\telematics-master\\\\processed_data.csv\", index=False) #saving in csv"
   ]
  },
  {
   "cell_type": "code",
   "execution_count": 15,
   "metadata": {},
   "outputs": [
    {
     "data": {
      "text/html": [
       "<div>\n",
       "<style scoped>\n",
       "    .dataframe tbody tr th:only-of-type {\n",
       "        vertical-align: middle;\n",
       "    }\n",
       "\n",
       "    .dataframe tbody tr th {\n",
       "        vertical-align: top;\n",
       "    }\n",
       "\n",
       "    .dataframe thead th {\n",
       "        text-align: right;\n",
       "    }\n",
       "</style>\n",
       "<table border=\"1\" class=\"dataframe\">\n",
       "  <thead>\n",
       "    <tr style=\"text-align: right;\">\n",
       "      <th></th>\n",
       "      <th>date</th>\n",
       "      <th>speed_mps</th>\n",
       "      <th>acc_ms</th>\n",
       "      <th>gyro_dps</th>\n",
       "      <th>acc_roll_angle</th>\n",
       "      <th>acc_pitch_angle</th>\n",
       "    </tr>\n",
       "  </thead>\n",
       "  <tbody>\n",
       "    <tr>\n",
       "      <th>0</th>\n",
       "      <td>2017-04-03 09:13:32</td>\n",
       "      <td>0.834</td>\n",
       "      <td>0.215754</td>\n",
       "      <td>0.000000</td>\n",
       "      <td>-1.260304</td>\n",
       "      <td>-0.630076</td>\n",
       "    </tr>\n",
       "    <tr>\n",
       "      <th>1</th>\n",
       "      <td>2017-04-03 09:13:32</td>\n",
       "      <td>0.834</td>\n",
       "      <td>0.196140</td>\n",
       "      <td>0.057296</td>\n",
       "      <td>-1.151519</td>\n",
       "      <td>-1.151286</td>\n",
       "    </tr>\n",
       "    <tr>\n",
       "      <th>2</th>\n",
       "      <td>2017-04-03 09:13:32</td>\n",
       "      <td>0.834</td>\n",
       "      <td>0.186333</td>\n",
       "      <td>0.057296</td>\n",
       "      <td>-1.098372</td>\n",
       "      <td>-0.000000</td>\n",
       "    </tr>\n",
       "    <tr>\n",
       "      <th>3</th>\n",
       "      <td>2017-04-03 09:13:32</td>\n",
       "      <td>0.556</td>\n",
       "      <td>0.382473</td>\n",
       "      <td>0.057296</td>\n",
       "      <td>-1.858845</td>\n",
       "      <td>-2.263892</td>\n",
       "    </tr>\n",
       "    <tr>\n",
       "      <th>4</th>\n",
       "      <td>2017-04-03 09:13:32</td>\n",
       "      <td>0.556</td>\n",
       "      <td>0.402087</td>\n",
       "      <td>0.057296</td>\n",
       "      <td>-2.381110</td>\n",
       "      <td>-1.799242</td>\n",
       "    </tr>\n",
       "  </tbody>\n",
       "</table>\n",
       "</div>"
      ],
      "text/plain": [
       "                 date  speed_mps    acc_ms  gyro_dps  acc_roll_angle  \\\n",
       "0 2017-04-03 09:13:32      0.834  0.215754  0.000000       -1.260304   \n",
       "1 2017-04-03 09:13:32      0.834  0.196140  0.057296       -1.151519   \n",
       "2 2017-04-03 09:13:32      0.834  0.186333  0.057296       -1.098372   \n",
       "3 2017-04-03 09:13:32      0.556  0.382473  0.057296       -1.858845   \n",
       "4 2017-04-03 09:13:32      0.556  0.402087  0.057296       -2.381110   \n",
       "\n",
       "   acc_pitch_angle  \n",
       "0        -0.630076  \n",
       "1        -1.151286  \n",
       "2        -0.000000  \n",
       "3        -2.263892  \n",
       "4        -1.799242  "
      ]
     },
     "execution_count": 15,
     "metadata": {},
     "output_type": "execute_result"
    }
   ],
   "source": [
    "df1.head()"
   ]
  },
  {
   "cell_type": "code",
   "execution_count": 17,
   "metadata": {},
   "outputs": [],
   "source": [
    "class Driver:\n",
    "    \n",
    "    def __init__(self):\n",
    "        #preprocess = pre.data_preprocess()\n",
    "        self.dataset = df1\n",
    "        self.file_init = False\n",
    "        self.file_name = 'feature_outputs/'\n",
    "        \n",
    "    def get_dataset(self):\n",
    "        return self.dataset\n",
    "    \n",
    "    def generate_features_csv(self,feature_vector,row_count):\n",
    "        if(self.file_init == False):\n",
    "            self.file_name += \"driver_features.csv\"\n",
    "            self.file_init = True\n",
    "            header = ['index','max_speed','max_rotation','max_acc','avg_acc','avg_rotation','avg_speed','min_acc','min_speed','min_rotation','acc_roll_angle', 'acc_pitch_angle']\n",
    "            with open(self.file_name, 'w') as writeFile:\n",
    "                writer = csv.writer(writeFile)\n",
    "                writer.writerow(header)\n",
    "            writeFile.close()\n",
    "        else:\n",
    "            feature_vector = list(feature_vector.values())\n",
    "            feature_vector = [row_count]+feature_vector\n",
    "            with open(self.file_name, 'a') as writeFile:\n",
    "                writer = csv.writer(writeFile)\n",
    "                writer.writerow(feature_vector)\n",
    "            writeFile.close()\n",
    "    \n",
    "    def write_features(self,feature_vector,row_count):\n",
    "        if(self.file_init == False):\n",
    "            self.file_name += \"driver_features.csv\"\n",
    "            self.file_init = True\n",
    "            header = ['index','max_speed','max_rotation','max_acc','avg_acc','avg_rotation','avg_speed','min_acc','min_speed','min_rotation','acc_roll_angle', 'acc_pitch_angle','score']\n",
    "            with open(self.file_name, 'w') as writeFile:\n",
    "                writer = csv.writer(writeFile)\n",
    "                writer.writerow(header)\n",
    "            writeFile.close()\n",
    "        else:\n",
    "            score = 10.0\n",
    "            if (feature_vector['max_speed'] > 10.5):\n",
    "                score = score - 1.3\n",
    "            elif (feature_vector['max_speed'] >12.5):\n",
    "                score = score - 2.9\n",
    "            elif (feature_vector['max_speed'] > 15.0): \n",
    "                score = score - 5.7\n",
    "            if (feature_vector['avg_speed'] >10.5):\n",
    "                score = score - 1.5\n",
    "            #no need for other speed conditions since max conditions covers them\n",
    "            if (feature_vector['max_rotation'] >0.1):\n",
    "                score = score - 0.5\n",
    "            elif (feature_vector['max_rotation'] >0.8):\n",
    "                score = score - 0.8\n",
    "            if (feature_vector['avg_rotation'] >0.1):\n",
    "                score = score - 0.6\n",
    "            if (feature_vector['max_acc'] >1.5 and feature_vector['max_acc'] <2.0):\n",
    "                score = score - 1.8\n",
    "            elif (feature_vector['max_acc'] >1.0 and feature_vector['max_acc'] <2.0):\n",
    "                score = score - 1.0\n",
    "            if (feature_vector['avg_acc'] >1.0):\n",
    "                score = score - 0.4\n",
    "            feature_vector = list(feature_vector.values())\n",
    "            feature_vector = [row_count]+feature_vector+[score]\n",
    "            with open(self.file_name, 'a') as writeFile:\n",
    "                writer = csv.writer(writeFile)\n",
    "                writer.writerow(feature_vector)\n",
    "            writeFile.close()\n",
    "            \n",
    "\n",
    "    \n",
    "    def generate_feature_vectors(self):\n",
    "        self.data_rows = self.dataset.iloc[:,:-1].values.tolist()\n",
    "        self.feature_vector = {}\n",
    "        speed = self.dataset['speed_mps'].values\n",
    "        acc = self.dataset['acc_ms'].values\n",
    "        gyro = self.dataset['gyro_dps'].values\n",
    "        acc_roll_angle = self.dataset['acc_roll_angle'].values\n",
    "        acc_pitch_angle = self.dataset['acc_pitch_angle'].values\n",
    "        print(len(self.data_rows))\n",
    "        for row_count in range(len(self.data_rows)):\n",
    "            feature_element = {}\n",
    "            max_speed = 0\n",
    "            min_speed = 999\n",
    "            avg_speed = 0\n",
    "            max_acc = 0\n",
    "            min_acc =999\n",
    "            avg_acc = 0\n",
    "            max_rotation = 0\n",
    "            min_rotation = 999\n",
    "            avg_rotation = 0\n",
    "            count=0\n",
    "            if (row_count+global_vals.sample_size>len(self.data_rows)):\n",
    "                global_vals.sample_size = global_vals.sample_size - row_count - 1\n",
    "            while count in range(global_vals.sample_size):\n",
    "                max_speed = abs(speed[row_count+count]) if abs(speed[row_count+count])>max_speed else max_speed\n",
    "                max_rotation = abs(gyro[row_count+count]) if abs(gyro[row_count+count])>max_rotation else max_rotation\n",
    "                max_acc = abs(acc[row_count+count]) if abs(acc[row_count+count])>max_acc else max_acc\n",
    "                acc_roll = acc_roll_angle[row_count+count]\n",
    "                acc_pitch = acc_pitch_angle[row_count+count]\n",
    "\n",
    "                avg_speed+=abs(speed[row_count+count])\n",
    "                avg_acc+=abs(acc[row_count+count])\n",
    "                avg_rotation+=abs(gyro[row_count+count])\n",
    "                \n",
    "                min_speed = abs(speed[row_count+count]) if abs(speed[row_count+count])<min_speed else min_speed\n",
    "                min_rotation = abs(gyro[row_count+count]) if abs(gyro[row_count+count])<min_rotation else min_rotation\n",
    "                min_acc = abs(acc[row_count+count]) if abs(acc[row_count+count])<min_acc else min_acc\n",
    "                count+=1\n",
    "            \n",
    "            if(count>0):\n",
    "                avg_acc/=global_vals.sample_size\n",
    "                avg_speed/=global_vals.sample_size\n",
    "                avg_rotation/=global_vals.sample_size\n",
    "                \n",
    "                feature_element['max_speed'] = max_speed\n",
    "                feature_element['max_rotation'] = max_rotation\n",
    "                feature_element['max_acc'] = max_acc\n",
    "                feature_element['avg_acc'] = avg_acc\n",
    "                feature_element['avg_rotation'] = avg_rotation\n",
    "                feature_element['avg_speed'] = avg_speed\n",
    "                feature_element['min_acc'] = min_acc\n",
    "                feature_element['min_speed'] = min_speed\n",
    "                feature_element['min_rotation'] = min_rotation\n",
    "                feature_element['acc_roll_angle'] = acc_roll\n",
    "                feature_element['acc_pitch_angle'] = acc_pitch\n",
    "                \n",
    "                \n",
    "                if global_vals.train_mode == True:\n",
    "                    self.write_features(feature_element,row_count)\n",
    "                else:\n",
    "                    self.generate_features_csv(feature_element,row_count)\n",
    "                \n",
    "                \n",
    "                self.feature_vector[row_count] = feature_element\n",
    "\n",
    "        return self.feature_vector"
   ]
  },
  {
   "cell_type": "code",
   "execution_count": 7,
   "metadata": {},
   "outputs": [
    {
     "name": "stdout",
     "output_type": "stream",
     "text": [
      "91610\n"
     ]
    }
   ],
   "source": [
    "Driver_obj = Driver()\n",
    "feature_dict = Driver_obj.generate_feature_vectors()"
   ]
  },
  {
   "cell_type": "code",
   "execution_count": 20,
   "metadata": {},
   "outputs": [
    {
     "name": "stdout",
     "output_type": "stream",
     "text": [
      "91610\n"
     ]
    }
   ],
   "source": [
    "Driver_obj = Driver()\n",
    "feature_dict = Driver_obj.generate_feature_vectors()"
   ]
  },
  {
   "cell_type": "code",
   "execution_count": 14,
   "metadata": {},
   "outputs": [],
   "source": [
    "#Driver_obj = Driver()"
   ]
  },
  {
   "cell_type": "code",
   "execution_count": 56,
   "metadata": {},
   "outputs": [],
   "source": [
    "df2 = pd.read_csv('feature_outputs/driver_features.csv')\n",
    "df2 = df2.drop(['index'], axis=1)"
   ]
  },
  {
   "cell_type": "code",
   "execution_count": 3,
   "metadata": {},
   "outputs": [
    {
     "data": {
      "text/html": [
       "<div>\n",
       "<style scoped>\n",
       "    .dataframe tbody tr th:only-of-type {\n",
       "        vertical-align: middle;\n",
       "    }\n",
       "\n",
       "    .dataframe tbody tr th {\n",
       "        vertical-align: top;\n",
       "    }\n",
       "\n",
       "    .dataframe thead th {\n",
       "        text-align: right;\n",
       "    }\n",
       "</style>\n",
       "<table border=\"1\" class=\"dataframe\">\n",
       "  <thead>\n",
       "    <tr style=\"text-align: right;\">\n",
       "      <th></th>\n",
       "      <th>max_speed</th>\n",
       "      <th>max_rotation</th>\n",
       "      <th>max_acc</th>\n",
       "      <th>avg_acc</th>\n",
       "      <th>avg_rotation</th>\n",
       "      <th>avg_speed</th>\n",
       "      <th>min_acc</th>\n",
       "      <th>min_speed</th>\n",
       "      <th>min_rotation</th>\n",
       "      <th>acc_roll_angle</th>\n",
       "      <th>acc_pitch_angle</th>\n",
       "      <th>score</th>\n",
       "    </tr>\n",
       "  </thead>\n",
       "  <tbody>\n",
       "    <tr>\n",
       "      <th>0</th>\n",
       "      <td>1.112</td>\n",
       "      <td>3.666944</td>\n",
       "      <td>0.774753</td>\n",
       "      <td>0.341284</td>\n",
       "      <td>0.538582</td>\n",
       "      <td>0.8340</td>\n",
       "      <td>0.137298</td>\n",
       "      <td>0.556</td>\n",
       "      <td>0.057296</td>\n",
       "      <td>-3.791742</td>\n",
       "      <td>-2.157257</td>\n",
       "      <td>8.9</td>\n",
       "    </tr>\n",
       "    <tr>\n",
       "      <th>1</th>\n",
       "      <td>1.112</td>\n",
       "      <td>6.130672</td>\n",
       "      <td>0.774753</td>\n",
       "      <td>0.331477</td>\n",
       "      <td>1.145920</td>\n",
       "      <td>0.8618</td>\n",
       "      <td>0.098070</td>\n",
       "      <td>0.556</td>\n",
       "      <td>0.057296</td>\n",
       "      <td>5.184349</td>\n",
       "      <td>0.556679</td>\n",
       "      <td>8.9</td>\n",
       "    </tr>\n",
       "    <tr>\n",
       "      <th>2</th>\n",
       "      <td>1.112</td>\n",
       "      <td>6.130672</td>\n",
       "      <td>0.774753</td>\n",
       "      <td>0.352071</td>\n",
       "      <td>1.736069</td>\n",
       "      <td>0.8896</td>\n",
       "      <td>0.098070</td>\n",
       "      <td>0.556</td>\n",
       "      <td>0.057296</td>\n",
       "      <td>9.335799</td>\n",
       "      <td>-2.366690</td>\n",
       "      <td>8.9</td>\n",
       "    </tr>\n",
       "    <tr>\n",
       "      <th>3</th>\n",
       "      <td>1.390</td>\n",
       "      <td>10.542464</td>\n",
       "      <td>0.774753</td>\n",
       "      <td>0.355013</td>\n",
       "      <td>2.784586</td>\n",
       "      <td>0.9730</td>\n",
       "      <td>0.098070</td>\n",
       "      <td>0.556</td>\n",
       "      <td>0.057296</td>\n",
       "      <td>6.290228</td>\n",
       "      <td>-2.373949</td>\n",
       "      <td>8.9</td>\n",
       "    </tr>\n",
       "    <tr>\n",
       "      <th>4</th>\n",
       "      <td>1.390</td>\n",
       "      <td>10.542464</td>\n",
       "      <td>0.774753</td>\n",
       "      <td>0.371685</td>\n",
       "      <td>2.853341</td>\n",
       "      <td>1.0286</td>\n",
       "      <td>0.098070</td>\n",
       "      <td>0.556</td>\n",
       "      <td>0.057296</td>\n",
       "      <td>14.685577</td>\n",
       "      <td>-3.300141</td>\n",
       "      <td>8.9</td>\n",
       "    </tr>\n",
       "  </tbody>\n",
       "</table>\n",
       "</div>"
      ],
      "text/plain": [
       "   max_speed  max_rotation   max_acc   avg_acc  avg_rotation  avg_speed  \\\n",
       "0      1.112      3.666944  0.774753  0.341284      0.538582     0.8340   \n",
       "1      1.112      6.130672  0.774753  0.331477      1.145920     0.8618   \n",
       "2      1.112      6.130672  0.774753  0.352071      1.736069     0.8896   \n",
       "3      1.390     10.542464  0.774753  0.355013      2.784586     0.9730   \n",
       "4      1.390     10.542464  0.774753  0.371685      2.853341     1.0286   \n",
       "\n",
       "    min_acc  min_speed  min_rotation  acc_roll_angle  acc_pitch_angle  score  \n",
       "0  0.137298      0.556      0.057296       -3.791742        -2.157257    8.9  \n",
       "1  0.098070      0.556      0.057296        5.184349         0.556679    8.9  \n",
       "2  0.098070      0.556      0.057296        9.335799        -2.366690    8.9  \n",
       "3  0.098070      0.556      0.057296        6.290228        -2.373949    8.9  \n",
       "4  0.098070      0.556      0.057296       14.685577        -3.300141    8.9  "
      ]
     },
     "execution_count": 3,
     "metadata": {},
     "output_type": "execute_result"
    }
   ],
   "source": [
    "df2.head()"
   ]
  },
  {
   "cell_type": "code",
   "execution_count": 4,
   "metadata": {},
   "outputs": [],
   "source": [
    "#Modeling\n",
    "X = df2.iloc[:, :11].values\n",
    "y = df2.iloc[:, 11].values\n",
    "\n",
    "for count in range(0,len(y)):\n",
    "    if y[count] <7.5:\n",
    "        y[count]=0\n",
    "    else:\n",
    "        y[count]=1"
   ]
  },
  {
   "cell_type": "code",
   "execution_count": 5,
   "metadata": {},
   "outputs": [
    {
     "data": {
      "text/plain": [
       "0.0    52357\n",
       "1.0    39243\n",
       "Name: score, dtype: int64"
      ]
     },
     "execution_count": 5,
     "metadata": {},
     "output_type": "execute_result"
    }
   ],
   "source": [
    "df2['score'].value_counts()"
   ]
  },
  {
   "cell_type": "markdown",
   "metadata": {},
   "source": [
    "#### Logistic Regression "
   ]
  },
  {
   "cell_type": "code",
   "execution_count": 42,
   "metadata": {},
   "outputs": [
    {
     "name": "stdout",
     "output_type": "stream",
     "text": [
      "[[-0.2104354   0.01601282  0.00295156 -0.26991448 -0.03050183 -0.09665994\n",
      "  -0.69853224 -0.16171267 -0.04630147  0.00863051 -0.00290165]]\n",
      "[4.0277035]\n",
      "[[8898 1458]\n",
      " [1535 6429]]\n",
      "Accuracy of logistic regression classifier on test set: 0.84\n",
      "              precision    recall  f1-score   support\n",
      "\n",
      "         0.0       0.85      0.86      0.86     10356\n",
      "         1.0       0.82      0.81      0.81      7964\n",
      "\n",
      "    accuracy                           0.84     18320\n",
      "   macro avg       0.83      0.83      0.83     18320\n",
      "weighted avg       0.84      0.84      0.84     18320\n",
      "\n"
     ]
    }
   ],
   "source": [
    "#Modeling\n",
    "X_train, X_test, y_train, y_test = train_test_split(X, y, test_size = 0.2, random_state = 0)\n",
    "lr = LogisticRegression()\n",
    "lr.fit(X_train, y_train)\n",
    "\n",
    "print(lr.coef_)\n",
    "print(lr.intercept_)\n",
    "\n",
    "y_pred = lr.predict(X_test)\n",
    "\n",
    "\n",
    "\n",
    "print(confusion_matrix(y_test, y_pred))\n",
    "\n",
    "#Accuracy of the model\n",
    "print('Accuracy of logistic regression classifier on test set: {:.2f}'.format(lr.score(X_test, y_test)))\n",
    "\n",
    "print(classification_report(y_test, y_pred))"
   ]
  },
  {
   "cell_type": "code",
   "execution_count": 43,
   "metadata": {},
   "outputs": [
    {
     "data": {
      "image/png": "[encoded data removed]",
      "text/plain": [
       "<Figure size 432x288 with 1 Axes>"
      ]
     },
     "metadata": {
      "needs_background": "light"
     },
     "output_type": "display_data"
    }
   ],
   "source": [
    "logit_roc_auc = roc_auc_score(y_test, y_pred)\n",
    "fpr, tpr, thresholds = roc_curve(y_test,lr.predict_proba(X_test)[:,1])\n",
    "plt.figure()\n",
    "plt.plot(fpr, tpr, label='Logistic Regression (area = %0.2f)' % logit_roc_auc)\n",
    "plt.plot([0, 1], [0, 1],'r--')\n",
    "plt.xlim([0.0, 1.0])\n",
    "plt.ylim([0.0, 1.05])\n",
    "plt.xlabel('False Positive Rate')\n",
    "plt.ylabel('True Positive Rate')\n",
    "plt.legend(loc=\"lower right\")\n",
    "plt.show()"
   ]
  },
  {
   "cell_type": "markdown",
   "metadata": {},
   "source": [
    "# Extreme Gradient Boost"
   ]
  },
  {
   "cell_type": "code",
   "execution_count": 45,
   "metadata": {},
   "outputs": [
    {
     "data": {
      "text/plain": [
       "<matplotlib.axes._subplots.AxesSubplot at 0x18b26d90c88>"
      ]
     },
     "execution_count": 45,
     "metadata": {},
     "output_type": "execute_result"
    },
    {
     "data": {
      "image/png": "[encoded data removed]",
      "text/plain": [
       "<Figure size 792x576 with 2 Axes>"
      ]
     },
     "metadata": {},
     "output_type": "display_data"
    }
   ],
   "source": [
    "import seaborn as sns\n",
    "sns.set(rc={'figure.figsize':(11,8)})\n",
    "Var_Corr = df2.corr()\n",
    "# plot the heatmap and annotation on it\n",
    "sns.heatmap(Var_Corr, xticklabels=Var_Corr.columns, yticklabels=Var_Corr.columns, annot=True)\n",
    "\n"
   ]
  },
  {
   "cell_type": "markdown",
   "metadata": {},
   "source": [
    "###### Find corelation strength between variables"
   ]
  },
  {
   "cell_type": "code",
   "execution_count": 46,
   "metadata": {},
   "outputs": [],
   "source": [
    "def get_redundant_pairs(df):\n",
    "    '''Get diagonal and lower triangular pairs of correlation matrix'''\n",
    "    pairs_to_drop = set()\n",
    "    cols = df2.columns\n",
    "    for i in range(0, df.shape[1]):\n",
    "        for j in range(0, i+1):\n",
    "            pairs_to_drop.add((cols[i], cols[j]))\n",
    "    return pairs_to_drop\n",
    "\n",
    "def get_top_abs_correlations(df, n=5):\n",
    "    au_corr = df2.corr().abs().unstack()\n",
    "    labels_to_drop = get_redundant_pairs(df2)\n",
    "    au_corr = au_corr.drop(labels=labels_to_drop).sort_values(ascending=False)\n",
    "    return au_corr[0:n]"
   ]
  },
  {
   "cell_type": "code",
   "execution_count": 47,
   "metadata": {},
   "outputs": [
    {
     "name": "stdout",
     "output_type": "stream",
     "text": [
      "avg_speed     min_speed          0.989712\n",
      "max_speed     avg_speed          0.989512\n",
      "              min_speed          0.962921\n",
      "max_rotation  avg_rotation       0.900003\n",
      "max_acc       avg_acc            0.826332\n",
      "avg_speed     score              0.649998\n",
      "min_speed     score              0.645653\n",
      "max_speed     score              0.641453\n",
      "avg_acc       min_acc            0.590391\n",
      "avg_rotation  min_rotation       0.523658\n",
      "max_acc       min_speed          0.298715\n",
      "              min_acc            0.292860\n",
      "avg_acc       acc_roll_angle     0.278580\n",
      "max_rotation  min_rotation       0.274247\n",
      "              max_acc            0.265717\n",
      "              avg_acc            0.263218\n",
      "max_acc       acc_roll_angle     0.253592\n",
      "              avg_speed          0.250585\n",
      "min_acc       acc_pitch_angle    0.243411\n",
      "avg_acc       acc_pitch_angle    0.232228\n",
      "dtype: float64\n"
     ]
    }
   ],
   "source": [
    "print(get_top_abs_correlations(df2, 20))"
   ]
  },
  {
   "cell_type": "code",
   "execution_count": 169,
   "metadata": {},
   "outputs": [],
   "source": [
    "A =df2.iloc[:,0:11]\n",
    "\n",
    "B= df2[['score']]\n",
    "\n",
    "B['score'] = np.where(B['score'] <= 7.5, 0, 1)\n",
    "\n",
    "\n",
    "\n",
    "from sklearn.model_selection import train_test_split\n",
    "X_train, X_test, y_train, y_test = train_test_split(A, B,\n",
    "                                                    stratify=y, \n",
    "                                                    test_size=0.25)"
   ]
  },
  {
   "cell_type": "code",
   "execution_count": 96,
   "metadata": {},
   "outputs": [
    {
     "data": {
      "text/plain": [
       "((91600, 12), (68700, 11), (68700, 1), (22900, 11), (22900, 1))"
      ]
     },
     "execution_count": 96,
     "metadata": {},
     "output_type": "execute_result"
    }
   ],
   "source": [
    "df2.shape , X_train.shape , y_train.shape,X_test.shape,y_test.shape"
   ]
  },
  {
   "cell_type": "code",
   "execution_count": 60,
   "metadata": {},
   "outputs": [
    {
     "name": "stdout",
     "output_type": "stream",
     "text": [
      "[[13137     0]\n",
      " [    0  9763]]\n",
      "              precision    recall  f1-score   support\n",
      "\n",
      "           0       1.00      1.00      1.00     13137\n",
      "           1       1.00      1.00      1.00      9763\n",
      "\n",
      "    accuracy                           1.00     22900\n",
      "   macro avg       1.00      1.00      1.00     22900\n",
      "weighted avg       1.00      1.00      1.00     22900\n",
      "\n"
     ]
    }
   ],
   "source": [
    "import xgboost as xgb\n",
    "model= xgb.XGBClassifier(random_state=1,learning_rate=0.01)\n",
    "\n",
    "model = model.fit(X_train, y_train)\n",
    "\n",
    "y_pred = model.predict(X_test)\n",
    "\n",
    "accuracy_score(y_test,y_pred)\n",
    "\n",
    "print(confusion_matrix(y_test, y_pred))\n",
    "print(classification_report(y_test, y_pred))"
   ]
  },
  {
   "cell_type": "markdown",
   "metadata": {},
   "source": [
    "##### Hyper parameter tuning for XGB"
   ]
  },
  {
   "cell_type": "code",
   "execution_count": 170,
   "metadata": {},
   "outputs": [
    {
     "name": "stdout",
     "output_type": "stream",
     "text": [
      "Fitting 5 folds for each of 27 candidates, totalling 135 fits\n"
     ]
    },
    {
     "name": "stderr",
     "output_type": "stream",
     "text": [
      "[Parallel(n_jobs=2)]: Using backend LokyBackend with 2 concurrent workers.\n",
      "[Parallel(n_jobs=2)]: Done  46 tasks      | elapsed: 27.0min\n",
      "[Parallel(n_jobs=2)]: Done 135 out of 135 | elapsed: 82.1min finished\n"
     ]
    },
    {
     "name": "stdout",
     "output_type": "stream",
     "text": [
      "Best Parameters : {'learning_rate': 0.01, 'max_depth': 7, 'n_estimators': 900, 'reg_alpha': 0.3}\n"
     ]
    }
   ],
   "source": [
    "from sklearn.model_selection import GridSearchCV\n",
    "params = {\n",
    "     'learning_rate': [0.01],\n",
    "     'n_estimators': [900,1000,1100],\n",
    "     'max_depth':[7,8,9],\n",
    "     'reg_alpha':[0.3,0.4,0.5]\n",
    "    }\n",
    " \n",
    "# Initializing the XGBoost Regressor\n",
    "xgb_model = xgb.XGBClassifier()\n",
    " \n",
    "# Gridsearch initializaation\n",
    "gsearch = GridSearchCV(xgb_model, params,\n",
    "                    verbose=True,\n",
    "                    cv=5,\n",
    "                    n_jobs=2)\n",
    " \n",
    "gsearch.fit(X_train, y_train)\n",
    " \n",
    "#Printing the best chosen params\n",
    "print(\"Best Parameters :\",gsearch.best_params_)"
   ]
  },
  {
   "cell_type": "code",
   "execution_count": 172,
   "metadata": {},
   "outputs": [],
   "source": [
    "params = {'objective':'binary:logistic', 'booster':'gbtree'}\n",
    "params.update(gsearch.best_params_)"
   ]
  },
  {
   "cell_type": "code",
   "execution_count": 174,
   "metadata": {},
   "outputs": [
    {
     "name": "stdout",
     "output_type": "stream",
     "text": [
      "[[13143     0]\n",
      " [    0  9757]]\n",
      "              precision    recall  f1-score   support\n",
      "\n",
      "           0       1.00      1.00      1.00     13143\n",
      "           1       1.00      1.00      1.00      9757\n",
      "\n",
      "    accuracy                           1.00     22900\n",
      "   macro avg       1.00      1.00      1.00     22900\n",
      "weighted avg       1.00      1.00      1.00     22900\n",
      "\n"
     ]
    }
   ],
   "source": [
    "xgb_model_tuned = xgb.XGBClassifier(**params,random_state=100)\n",
    "xgb_model_tuned.fit(X_train, y_train)\n",
    "\n",
    "y_pred = xgb_model_tuned.predict(X_test)\n",
    "\n",
    "accuracy_score(y_test,y_pred)\n",
    "\n",
    "print(confusion_matrix(y_test, y_pred))\n",
    "print(classification_report(y_test, y_pred))"
   ]
  },
  {
   "cell_type": "code",
   "execution_count": 173,
   "metadata": {},
   "outputs": [
    {
     "name": "stdout",
     "output_type": "stream",
     "text": [
      "\n",
      "Target on train data [0 0 0 ... 0 0 0]\n",
      "\n",
      "accuracy_score on train dataset :  1.0\n",
      "\n",
      "Target on test data [0 1 1 ... 1 1 1]\n",
      "\n",
      "accuracy_score on test dataset :  1.0\n"
     ]
    }
   ],
   "source": [
    "#Check Accuracy on train and test dataset\n",
    "\n",
    "model = XGBClassifier()\n",
    "model.fit(X_train,y_train)\n",
    "\n",
    "# predict the target on the train dataset\n",
    "predict_train = model.predict(X_train)\n",
    "print('\\nTarget on train data',predict_train)\n",
    "\n",
    "# Accuray Score on train dataset\n",
    "accuracy_train = accuracy_score(y_train,predict_train)\n",
    "print('\\naccuracy_score on train dataset : ', accuracy_train)\n",
    "\n",
    "# predict the target on the test dataset\n",
    "predict_test = model.predict(X_test)\n",
    "print('\\nTarget on test data',predict_test) \n",
    " \n",
    "# Accuracy Score on test dataset\n",
    "accuracy_test = accuracy_score(y_test,predict_test)\n",
    "print('\\naccuracy_score on test dataset : ', accuracy_test)"
   ]
  },
  {
   "cell_type": "code",
   "execution_count": 174,
   "metadata": {},
   "outputs": [
    {
     "data": {
      "text/plain": [
       "array([1])"
      ]
     },
     "execution_count": 174,
     "metadata": {},
     "output_type": "execute_result"
    }
   ],
   "source": [
    "model.predict(X_test.iloc[[1]])"
   ]
  },
  {
   "cell_type": "code",
   "execution_count": 196,
   "metadata": {},
   "outputs": [
    {
     "data": {
      "text/plain": [
       "<matplotlib.axes._subplots.AxesSubplot at 0x25f020ad550>"
      ]
     },
     "execution_count": 196,
     "metadata": {},
     "output_type": "execute_result"
    },
    {
     "data": {
      "image/png": "[encoded data removed]",
      "text/plain": [
       "<Figure size 432x288 with 1 Axes>"
      ]
     },
     "metadata": {
      "needs_background": "light"
     },
     "output_type": "display_data"
    }
   ],
   "source": [
    "xgb.plot_importance(model)"
   ]
  },
  {
   "cell_type": "code",
   "execution_count": 213,
   "metadata": {},
   "outputs": [
    {
     "data": {
      "text/plain": [
       "{'min_speed': 4,\n",
       " 'min_acc': 8,\n",
       " 'acc_pitch_angle': 8,\n",
       " 'max_rotation': 9,\n",
       " 'acc_roll_angle': 9,\n",
       " 'avg_rotation': 32,\n",
       " 'avg_speed': 46,\n",
       " 'max_speed': 66,\n",
       " 'avg_acc': 89,\n",
       " 'max_acc': 200}"
      ]
     },
     "execution_count": 213,
     "metadata": {},
     "output_type": "execute_result"
    }
   ],
   "source": [
    "#model.feature_importances_\n",
    "colm =model.get_booster().get_score(importance_type='weight')\n",
    "{k: v for k, v in sorted(colm.items(), key=lambda item: item[1])}"
   ]
  },
  {
   "cell_type": "code",
   "execution_count": 198,
   "metadata": {},
   "outputs": [
    {
     "name": "stdout",
     "output_type": "stream",
     "text": [
      "max_speed 0.77432954\n",
      "max_rotation 6.182582e-05\n",
      "max_acc 0.1491896\n",
      "avg_acc 0.031780116\n",
      "avg_rotation 0.0022079302\n",
      "avg_speed 0.04221011\n",
      "min_acc 0.000106286185\n",
      "min_speed 5.384617e-05\n",
      "min_rotation 0.0\n",
      "acc_roll_angle 1.1511216e-05\n",
      "acc_pitch_angle 4.9179904e-05\n"
     ]
    }
   ],
   "source": [
    "for col,score in zip(X_train.columns,model.feature_importances_):\n",
    "    print(col,score)"
   ]
  },
  {
   "cell_type": "markdown",
   "metadata": {},
   "source": [
    "##### Run model with important variables"
   ]
  },
  {
   "cell_type": "code",
   "execution_count": 61,
   "metadata": {},
   "outputs": [],
   "source": [
    "X_test = X_test[['max_acc','avg_acc','max_speed','avg_speed','avg_rotation','acc_roll_angle']]\n",
    "X_train = X_train[['max_acc','avg_acc','max_speed','avg_speed','avg_rotation','acc_roll_angle']]"
   ]
  },
  {
   "cell_type": "code",
   "execution_count": 62,
   "metadata": {},
   "outputs": [
    {
     "name": "stdout",
     "output_type": "stream",
     "text": [
      "[[13137     0]\n",
      " [    0  9763]]\n",
      "              precision    recall  f1-score   support\n",
      "\n",
      "           0       1.00      1.00      1.00     13137\n",
      "           1       1.00      1.00      1.00      9763\n",
      "\n",
      "    accuracy                           1.00     22900\n",
      "   macro avg       1.00      1.00      1.00     22900\n",
      "weighted avg       1.00      1.00      1.00     22900\n",
      "\n"
     ]
    }
   ],
   "source": [
    "import xgboost as xgb\n",
    "model= xgb.XGBClassifier(random_state=1,learning_rate=0.01)\n",
    "\n",
    "model.fit(X_train, y_train)\n",
    "\n",
    "y_pred = model.predict(X_test)\n",
    "\n",
    "accuracy_score(y_test,y_pred)\n",
    "\n",
    "print(confusion_matrix(y_test, y_pred))\n",
    "print(classification_report(y_test, y_pred))"
   ]
  },
  {
   "cell_type": "code",
   "execution_count": 297,
   "metadata": {},
   "outputs": [
    {
     "data": {
      "text/html": [
       "\n",
       "    <style>\n",
       "    table.eli5-weights tr:hover {\n",
       "        filter: brightness(85%);\n",
       "    }\n",
       "</style>\n",
       "\n",
       "\n",
       "\n",
       "    \n",
       "\n",
       "    \n",
       "\n",
       "    \n",
       "\n",
       "    \n",
       "\n",
       "    \n",
       "\n",
       "    \n",
       "\n",
       "\n",
       "    \n",
       "\n",
       "    \n",
       "\n",
       "    \n",
       "\n",
       "    \n",
       "        \n",
       "\n",
       "    \n",
       "\n",
       "        \n",
       "            \n",
       "                \n",
       "                \n",
       "    \n",
       "        <p style=\"margin-bottom: 0.5em; margin-top: 0em\">\n",
       "            <b>\n",
       "    \n",
       "        y=1.0\n",
       "    \n",
       "</b>\n",
       "\n",
       "    \n",
       "    (probability <b>0.882</b>, score <b>2.011</b>)\n",
       "\n",
       "top features\n",
       "        </p>\n",
       "    \n",
       "    <table class=\"eli5-weights\"\n",
       "           style=\"border-collapse: collapse; border: none; margin-top: 0em; table-layout: auto; margin-bottom: 2em;\">\n",
       "        <thead>\n",
       "        <tr style=\"border: none;\">\n",
       "            \n",
       "                <th style=\"padding: 0 1em 0 0.5em; text-align: right; border: none;\" title=\"Feature contribution already accounts for the feature value (for linear models, contribution = weight * feature value), and the sum of feature contributions is equal to the score or, for some classifiers, to the probability. Feature values are shown if &quot;show_feature_values&quot; is True.\">\n",
       "                    Contribution<sup>?</sup>\n",
       "                </th>\n",
       "            \n",
       "            <th style=\"padding: 0 0.5em 0 0.5em; text-align: left; border: none;\">Feature</th>\n",
       "            \n",
       "                <th style=\"padding: 0 0.5em 0 1em; text-align: right; border: none;\">Value</th>\n",
       "            \n",
       "        </tr>\n",
       "        </thead>\n",
       "        <tbody>\n",
       "        \n",
       "            <tr style=\"background-color: hsl(120, 100.00%, 80.00%); border: none;\">\n",
       "    <td style=\"padding: 0 1em 0 0.5em; text-align: right; border: none;\">\n",
       "        +4.028\n",
       "    </td>\n",
       "    <td style=\"padding: 0 0.5em 0 0.5em; text-align: left; border: none;\">\n",
       "        &lt;BIAS&gt;\n",
       "    </td>\n",
       "    \n",
       "        <td style=\"padding: 0 0.5em 0 1em; text-align: right; border: none;\">\n",
       "            1.000\n",
       "        </td>\n",
       "    \n",
       "</tr>\n",
       "        \n",
       "            <tr style=\"background-color: hsl(120, 100.00%, 99.56%); border: none;\">\n",
       "    <td style=\"padding: 0 1em 0 0.5em; text-align: right; border: none;\">\n",
       "        +0.017\n",
       "    </td>\n",
       "    <td style=\"padding: 0 0.5em 0 0.5em; text-align: left; border: none;\">\n",
       "        x1\n",
       "    </td>\n",
       "    \n",
       "        <td style=\"padding: 0 0.5em 0 1em; text-align: right; border: none;\">\n",
       "            1.089\n",
       "        </td>\n",
       "    \n",
       "</tr>\n",
       "        \n",
       "            <tr style=\"background-color: hsl(120, 100.00%, 99.69%); border: none;\">\n",
       "    <td style=\"padding: 0 1em 0 0.5em; text-align: right; border: none;\">\n",
       "        +0.010\n",
       "    </td>\n",
       "    <td style=\"padding: 0 0.5em 0 0.5em; text-align: left; border: none;\">\n",
       "        x9\n",
       "    </td>\n",
       "    \n",
       "        <td style=\"padding: 0 0.5em 0 1em; text-align: right; border: none;\">\n",
       "            1.201\n",
       "        </td>\n",
       "    \n",
       "</tr>\n",
       "        \n",
       "            <tr style=\"background-color: hsl(120, 100.00%, 99.85%); border: none;\">\n",
       "    <td style=\"padding: 0 1em 0 0.5em; text-align: right; border: none;\">\n",
       "        +0.004\n",
       "    </td>\n",
       "    <td style=\"padding: 0 0.5em 0 0.5em; text-align: left; border: none;\">\n",
       "        x2\n",
       "    </td>\n",
       "    \n",
       "        <td style=\"padding: 0 0.5em 0 1em; text-align: right; border: none;\">\n",
       "            1.226\n",
       "        </td>\n",
       "    \n",
       "</tr>\n",
       "        \n",
       "        \n",
       "\n",
       "        \n",
       "        \n",
       "            <tr style=\"background-color: hsl(0, 100.00%, 99.96%); border: none;\">\n",
       "    <td style=\"padding: 0 1em 0 0.5em; text-align: right; border: none;\">\n",
       "        -0.000\n",
       "    </td>\n",
       "    <td style=\"padding: 0 0.5em 0 0.5em; text-align: left; border: none;\">\n",
       "        x10\n",
       "    </td>\n",
       "    \n",
       "        <td style=\"padding: 0 0.5em 0 1em; text-align: right; border: none;\">\n",
       "            0.172\n",
       "        </td>\n",
       "    \n",
       "</tr>\n",
       "        \n",
       "            <tr style=\"background-color: hsl(0, 100.00%, 99.81%); border: none;\">\n",
       "    <td style=\"padding: 0 1em 0 0.5em; text-align: right; border: none;\">\n",
       "        -0.005\n",
       "    </td>\n",
       "    <td style=\"padding: 0 0.5em 0 0.5em; text-align: left; border: none;\">\n",
       "        x8\n",
       "    </td>\n",
       "    \n",
       "        <td style=\"padding: 0 0.5em 0 1em; text-align: right; border: none;\">\n",
       "            0.115\n",
       "        </td>\n",
       "    \n",
       "</tr>\n",
       "        \n",
       "            <tr style=\"background-color: hsl(0, 100.00%, 99.60%); border: none;\">\n",
       "    <td style=\"padding: 0 1em 0 0.5em; text-align: right; border: none;\">\n",
       "        -0.015\n",
       "    </td>\n",
       "    <td style=\"padding: 0 0.5em 0 0.5em; text-align: left; border: none;\">\n",
       "        x4\n",
       "    </td>\n",
       "    \n",
       "        <td style=\"padding: 0 0.5em 0 1em; text-align: right; border: none;\">\n",
       "            0.498\n",
       "        </td>\n",
       "    \n",
       "</tr>\n",
       "        \n",
       "            <tr style=\"background-color: hsl(0, 100.00%, 99.50%); border: none;\">\n",
       "    <td style=\"padding: 0 1em 0 0.5em; text-align: right; border: none;\">\n",
       "        -0.021\n",
       "    </td>\n",
       "    <td style=\"padding: 0 0.5em 0 0.5em; text-align: left; border: none;\">\n",
       "        x6\n",
       "    </td>\n",
       "    \n",
       "        <td style=\"padding: 0 0.5em 0 1em; text-align: right; border: none;\">\n",
       "            0.029\n",
       "        </td>\n",
       "    \n",
       "</tr>\n",
       "        \n",
       "            <tr style=\"background-color: hsl(0, 100.00%, 98.32%); border: none;\">\n",
       "    <td style=\"padding: 0 1em 0 0.5em; text-align: right; border: none;\">\n",
       "        -0.118\n",
       "    </td>\n",
       "    <td style=\"padding: 0 0.5em 0 0.5em; text-align: left; border: none;\">\n",
       "        x3\n",
       "    </td>\n",
       "    \n",
       "        <td style=\"padding: 0 0.5em 0 1em; text-align: right; border: none;\">\n",
       "            0.435\n",
       "        </td>\n",
       "    \n",
       "</tr>\n",
       "        \n",
       "            <tr style=\"background-color: hsl(0, 100.00%, 96.45%); border: none;\">\n",
       "    <td style=\"padding: 0 1em 0 0.5em; text-align: right; border: none;\">\n",
       "        -0.341\n",
       "    </td>\n",
       "    <td style=\"padding: 0 0.5em 0 0.5em; text-align: left; border: none;\">\n",
       "        x5\n",
       "    </td>\n",
       "    \n",
       "        <td style=\"padding: 0 0.5em 0 1em; text-align: right; border: none;\">\n",
       "            3.531\n",
       "        </td>\n",
       "    \n",
       "</tr>\n",
       "        \n",
       "            <tr style=\"background-color: hsl(0, 100.00%, 95.39%); border: none;\">\n",
       "    <td style=\"padding: 0 1em 0 0.5em; text-align: right; border: none;\">\n",
       "        -0.495\n",
       "    </td>\n",
       "    <td style=\"padding: 0 0.5em 0 0.5em; text-align: left; border: none;\">\n",
       "        x7\n",
       "    </td>\n",
       "    \n",
       "        <td style=\"padding: 0 0.5em 0 1em; text-align: right; border: none;\">\n",
       "            3.058\n",
       "        </td>\n",
       "    \n",
       "</tr>\n",
       "        \n",
       "            <tr style=\"background-color: hsl(0, 100.00%, 92.18%); border: none;\">\n",
       "    <td style=\"padding: 0 1em 0 0.5em; text-align: right; border: none;\">\n",
       "        -1.053\n",
       "    </td>\n",
       "    <td style=\"padding: 0 0.5em 0 0.5em; text-align: left; border: none;\">\n",
       "        x0\n",
       "    </td>\n",
       "    \n",
       "        <td style=\"padding: 0 0.5em 0 1em; text-align: right; border: none;\">\n",
       "            5.004\n",
       "        </td>\n",
       "    \n",
       "</tr>\n",
       "        \n",
       "\n",
       "        </tbody>\n",
       "    </table>\n",
       "\n",
       "            \n",
       "        \n",
       "\n",
       "        \n",
       "\n",
       "\n",
       "\n",
       "    \n",
       "\n",
       "    \n",
       "\n",
       "    \n",
       "\n",
       "    \n",
       "\n",
       "\n",
       "    \n",
       "\n",
       "    \n",
       "\n",
       "    \n",
       "\n",
       "    \n",
       "\n",
       "    \n",
       "\n",
       "    \n",
       "\n",
       "\n",
       "    \n",
       "\n",
       "    \n",
       "\n",
       "    \n",
       "\n",
       "    \n",
       "\n",
       "    \n",
       "\n",
       "    \n",
       "\n",
       "\n",
       "\n"
      ],
      "text/plain": [
       "<IPython.core.display.HTML object>"
      ]
     },
     "execution_count": 297,
     "metadata": {},
     "output_type": "execute_result"
    }
   ],
   "source": [
    "from eli5 import show_prediction\n",
    "eli5.show_prediction(lr,X_test[0],show_feature_values=True)"
   ]
  },
  {
   "cell_type": "markdown",
   "metadata": {},
   "source": [
    "# LightGBM :LightGBM with all columns"
   ]
  },
  {
   "cell_type": "code",
   "execution_count": 63,
   "metadata": {},
   "outputs": [],
   "source": [
    "import lightgbm as lgb"
   ]
  },
  {
   "cell_type": "code",
   "execution_count": 129,
   "metadata": {},
   "outputs": [
    {
     "name": "stdout",
     "output_type": "stream",
     "text": [
      "[[13116    13]\n",
      " [    4  9767]]\n",
      "              precision    recall  f1-score   support\n",
      "\n",
      "           0       1.00      1.00      1.00     13129\n",
      "           1       1.00      1.00      1.00      9771\n",
      "\n",
      "    accuracy                           1.00     22900\n",
      "   macro avg       1.00      1.00      1.00     22900\n",
      "weighted avg       1.00      1.00      1.00     22900\n",
      "\n"
     ]
    }
   ],
   "source": [
    "A =df2.iloc[:,0:11]\n",
    "\n",
    "B= df2[['score']]\n",
    "\n",
    "B['score'] = np.where(B['score'] <= 7.5, 0, 1)\n",
    "\n",
    "\n",
    "\n",
    "from sklearn.model_selection import train_test_split\n",
    "X_train, X_test, y_train, y_test = train_test_split(A, B,\n",
    "                                                    stratify=y, \n",
    "                                                    test_size=0.25, random_state=10)\n",
    "\n",
    "l = lgb.LGBMClassifier(objective='binary')\n",
    "\n",
    "l.fit(X_train, y_train)\n",
    "\n",
    "y_pred_lightgbm = l.predict(X_test)\n",
    "\n",
    "print(confusion_matrix(y_test, y_pred_lightgbm))\n",
    "print(classification_report(y_test, y_pred_lightgbm))"
   ]
  },
  {
   "cell_type": "code",
   "execution_count": 130,
   "metadata": {},
   "outputs": [
    {
     "name": "stdout",
     "output_type": "stream",
     "text": [
      "0.9992576419213974\n",
      "1.0\n"
     ]
    }
   ],
   "source": [
    "print(l.score(X_test,y_test))\n",
    "print(l.score(X_train,y_train))"
   ]
  },
  {
   "cell_type": "code",
   "execution_count": 131,
   "metadata": {},
   "outputs": [
    {
     "data": {
      "text/plain": [
       "0.9992576419213974"
      ]
     },
     "execution_count": 131,
     "metadata": {},
     "output_type": "execute_result"
    }
   ],
   "source": [
    "accuracy_score(y_test,y_pred_lightgbm)"
   ]
  },
  {
   "cell_type": "code",
   "execution_count": 70,
   "metadata": {},
   "outputs": [],
   "source": [
    "from sklearn.metrics import f1_score"
   ]
  },
  {
   "cell_type": "code",
   "execution_count": 71,
   "metadata": {},
   "outputs": [
    {
     "data": {
      "text/plain": [
       "0.998055868208329"
      ]
     },
     "execution_count": 71,
     "metadata": {},
     "output_type": "execute_result"
    }
   ],
   "source": [
    "f1_score(y_test, y_pred_lightgbm)"
   ]
  },
  {
   "cell_type": "markdown",
   "metadata": {},
   "source": [
    "#### LBM with Selected columns"
   ]
  },
  {
   "cell_type": "code",
   "execution_count": 135,
   "metadata": {},
   "outputs": [],
   "source": [
    "# Remove Corelated variables ( Pearson Corelation)"
   ]
  },
  {
   "cell_type": "code",
   "execution_count": 139,
   "metadata": {},
   "outputs": [
    {
     "name": "stdout",
     "output_type": "stream",
     "text": [
      "[[12826   303]\n",
      " [  140  9631]]\n",
      "              precision    recall  f1-score   support\n",
      "\n",
      "           0       0.58      0.58      0.58     13129\n",
      "           1       0.43      0.43      0.43      9771\n",
      "\n",
      "    accuracy                           0.52     22900\n",
      "   macro avg       0.51      0.51      0.51     22900\n",
      "weighted avg       0.52      0.52      0.52     22900\n",
      "\n"
     ]
    }
   ],
   "source": [
    "A =df2.iloc[:,0:11]\n",
    "\n",
    "B= df2[['score']]\n",
    "\n",
    "B['score'] = np.where(B['score'] <= 7.5, 0, 1)\n",
    "\n",
    "\n",
    "\n",
    "from sklearn.model_selection import train_test_split\n",
    "X_train, X_test, y_train, y_test = train_test_split(A, B,\n",
    "                                                    stratify=y, \n",
    "                                                    test_size=0.25,random_state=10)\n",
    "\n",
    "X_test_selected = X_test[['max_acc','avg_acc','avg_speed','avg_rotation','acc_roll_angle','acc_pitch_angle']]\n",
    "X_train_selected= X_train[['max_acc','avg_acc','avg_speed','avg_rotation','acc_roll_angle','acc_pitch_angle']]\n",
    "\n",
    "lgb_selected = lgb.LGBMClassifier(objective='binary')\n",
    "\n",
    "lgb_selected.fit(X_train_selected, y_train)\n",
    "\n",
    "y_pred_lightgbm_selected = lgb_selected.predict(X_test_selected)\n",
    "\n",
    "print(confusion_matrix(y_test, y_pred_lightgbm_selected))\n",
    "print(classification_report(y_test, y_pred_lightgbm_Selected))"
   ]
  },
  {
   "cell_type": "code",
   "execution_count": 167,
   "metadata": {},
   "outputs": [
    {
     "name": "stdout",
     "output_type": "stream",
     "text": [
      "Accuracy for lightGBM with selected variables is : 0.9806550218340612\n",
      "\n",
      "\n",
      "Are under the curve : 0.9812966027054197\n",
      "\n",
      "\n",
      "Recall is : 0.9856718861938389\n"
     ]
    }
   ],
   "source": [
    "print(f'Accuracy for lightGBM with selected variables is : {accuracy_score(y_test, y_pred_lightgbm_selected)}')\n",
    "print('\\n')\n",
    "print(f'Are under the curve : {roc_auc_score(y_test, y_pred_lightgbm_selected)}')\n",
    "print('\\n')\n",
    "print(f'Recall is : {recall_score(y_test, y_pred_lightgbm_selected)}')\n"
   ]
  },
  {
   "cell_type": "markdown",
   "metadata": {},
   "source": [
    "#### Calculate VIF"
   ]
  },
  {
   "cell_type": "code",
   "execution_count": 171,
   "metadata": {},
   "outputs": [
    {
     "data": {
      "text/plain": [
       "const               79.678052\n",
       "max_speed          148.305208\n",
       "max_rotation         7.514442\n",
       "max_acc              4.141168\n",
       "avg_acc              6.091741\n",
       "avg_rotation         9.347992\n",
       "avg_speed          543.640653\n",
       "min_acc              1.966709\n",
       "min_speed          163.497925\n",
       "min_rotation         1.934292\n",
       "acc_roll_angle       1.312568\n",
       "acc_pitch_angle      1.147618\n",
       "score                2.082462\n",
       "Name: VIF, dtype: float64"
      ]
     },
     "execution_count": 171,
     "metadata": {},
     "output_type": "execute_result"
    }
   ],
   "source": [
    "from statsmodels.regression.linear_model import OLS\n",
    "from statsmodels.tools.tools import add_constant\n",
    "\n",
    "def variance_inflation_factors(exog_df):\n",
    "    '''\n",
    "    Parameters\n",
    "    ----------\n",
    "    exog_df : dataframe, (nobs, k_vars)\n",
    "        design matrix with all explanatory variables, as for example used in\n",
    "        regression.\n",
    "\n",
    "    Returns\n",
    "    -------\n",
    "    vif : Series\n",
    "        variance inflation factors\n",
    "    '''\n",
    "    exog_df = add_constant(exog_df)\n",
    "    vifs = pd.Series(\n",
    "        [1 / (1. - OLS(exog_df[col].values, \n",
    "                       exog_df.loc[:, exog_df.columns != col].values).fit().rsquared) \n",
    "         for col in exog_df],\n",
    "        index=exog_df.columns,\n",
    "        name='VIF'\n",
    "    )\n",
    "    return vifs\n",
    "\n",
    "variance_inflation_factors(df2)"
   ]
  },
  {
   "cell_type": "markdown",
   "metadata": {},
   "source": [
    "##### LightGBM without Speed column ( But results does not seems satisfactory\""
   ]
  },
  {
   "cell_type": "code",
   "execution_count": 168,
   "metadata": {},
   "outputs": [
    {
     "name": "stdout",
     "output_type": "stream",
     "text": [
      "[[10882  2242]\n",
      " [ 3296  6480]]\n",
      "              precision    recall  f1-score   support\n",
      "\n",
      "           0       0.77      0.83      0.80     13124\n",
      "           1       0.74      0.66      0.70      9776\n",
      "\n",
      "    accuracy                           0.76     22900\n",
      "   macro avg       0.76      0.75      0.75     22900\n",
      "weighted avg       0.76      0.76      0.76     22900\n",
      "\n",
      "0.7581659388646288\n"
     ]
    }
   ],
   "source": [
    "A =df2.iloc[:,0:11]\n",
    "\n",
    "B= df2[['score']]\n",
    "\n",
    "B['score'] = np.where(B['score'] <= 7.5, 0, 1)\n",
    "\n",
    "\n",
    "\n",
    "from sklearn.model_selection import train_test_split\n",
    "X_train, X_test, y_train, y_test = train_test_split(A, B,\n",
    "                                                    stratify=y, \n",
    "                                                    test_size=0.25,random_state=10)\n",
    "\n",
    "import lightgbm as lgb\n",
    "X_test_selected2 = X_test[['max_acc','avg_acc','avg_rotation','acc_roll_angle','acc_pitch_angle']]\n",
    "X_train_selected2= X_train[['max_acc','avg_acc','avg_rotation','acc_roll_angle','acc_pitch_angle']]\n",
    "\n",
    "lgb_model_selected2 = lgb.LGBMClassifier(objective='binary')\n",
    "\n",
    "lgb_model_selected2.fit(X_train_selected2, y_train)\n",
    "\n",
    "y_pred_lightgbm_selected_WO_Speed = lgb_model_selected.predict(X_test_selected2)\n",
    "\n",
    "print(confusion_matrix(y_test, y_pred_lightgbm_selected_WO_Speed))\n",
    "print(classification_report(y_test, y_pred_lightgbm_selected_WO_Speed))\n",
    "print(accuracy_score(y_test, y_pred_lightgbm_selected_WO_Speed))\n"
   ]
  },
  {
   "cell_type": "code",
   "execution_count": 110,
   "metadata": {},
   "outputs": [],
   "source": [
    "#After removing Speed column, there is drastically decrease in accuracy score."
   ]
  },
  {
   "cell_type": "code",
   "execution_count": null,
   "metadata": {},
   "outputs": [],
   "source": []
  }
 ],
 "metadata": {
  "kernelspec": {
   "display_name": "Python 3",
   "language": "python",
   "name": "python3"
  },
  "language_info": {
   "codemirror_mode": {
    "name": "ipython",
    "version": 3
   },
   "file_extension": ".py",
   "mimetype": "text/x-python",
   "name": "python",
   "nbconvert_exporter": "python",
   "pygments_lexer": "ipython3",
   "version": "3.7.3"
  }
 },
 "nbformat": 4,
 "nbformat_minor": 4
}
